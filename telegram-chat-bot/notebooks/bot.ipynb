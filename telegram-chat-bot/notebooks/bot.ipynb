{
 "cells": [
  {
   "cell_type": "code",
   "execution_count": null,
   "metadata": {},
   "outputs": [],
   "source": [
    "import requests\n",
    "import json\n",
    "import configparser as cfg"
   ]
  },
  {
   "cell_type": "code",
   "execution_count": null,
   "metadata": {},
   "outputs": [],
   "source": [
    "#!jupyter nbconvert --to script bot.ipynb"
   ]
  },
  {
   "cell_type": "code",
   "execution_count": null,
   "metadata": {},
   "outputs": [],
   "source": [
    "token=\"1743726854:AAH2GztAPqLNnxFQBNmMeIG0bcTuvJ6Ep_g\"\n",
    "base=\"https://api.telegram.org/bot{}/\".format(token)\n",
    "\n",
    "class bot():\n",
    "    def _init_(config):\n",
    "        token=read_token_from_config_file(config)\n",
    "        base=\"https://api.telegram.org/bot{}/\".format(token)\n",
    "    \n",
    "    def get_updates(offset=None):\n",
    "        url=base + \"getUpdates?timeout=100\"\n",
    "        if offset:\n",
    "            url = url+\"&offset={}\".format(offset + 1)\n",
    "        \n",
    "        r = requests.get(url)\n",
    "        return json.loads(r.content)\n",
    "    \n",
    "    def send_message(msg,chat_id):\n",
    "        url=base + \"sendMessage?chat_id={}&text={}\".format(chat_id,msg)\n",
    "        if msg is not None:\n",
    "            requests.get(url)\n",
    "            \n",
    "    def make_reply(msg):\n",
    "        reply=None\n",
    "        if msg is not None:\n",
    "            reply=\"Okay\"\n",
    "        return reply\n",
    "    \n",
    "    def read_token_from_config_file(config):\n",
    "        parser = cfg.ConfigParser()\n",
    "        parser.read(config)\n",
    "        return parser.get('creds','token')"
   ]
  },
  {
   "cell_type": "code",
   "execution_count": null,
   "metadata": {},
   "outputs": [],
   "source": [
    "update_id=None\n",
    "\n",
    "while True:\n",
    "    print(\"...\")\n",
    "    updates=bot.get_updates(offset=update_id)\n",
    "    updates=updates[\"result\"]\n",
    "    if updates:\n",
    "        for item in updates:\n",
    "            update_id=item[\"update_id\"]\n",
    "            try:\n",
    "                message=item[\"message\"][\"text\"]\n",
    "            except:\n",
    "                message=None\n",
    "            from_=item[\"message\"][\"from\"][\"id\"]\n",
    "            reply=bot.make_reply(message)\n",
    "            bot.send_message(reply,from_)    "
   ]
  }
 ],
 "metadata": {
  "kernelspec": {
   "display_name": "Python 3",
   "language": "python",
   "name": "python3"
  },
  "language_info": {
   "codemirror_mode": {
    "name": "ipython",
    "version": 3
   },
   "file_extension": ".py",
   "mimetype": "text/x-python",
   "name": "python",
   "nbconvert_exporter": "python",
   "pygments_lexer": "ipython3",
   "version": "3.8.5"
  }
 },
 "nbformat": 4,
 "nbformat_minor": 4
}
